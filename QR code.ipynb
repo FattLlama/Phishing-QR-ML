{
 "cells": [
  {
   "cell_type": "code",
   "execution_count": null,
   "id": "cc0e3fed-6442-478f-92b2-5871b097c1a5",
   "metadata": {},
   "outputs": [],
   "source": [
    "import tensorflow as tf\n",
    "import numpy as np\n",
    "from tensorflow.keras.layers import Conv2D, MaxPool2D  # Import Conv2D\n",
    "from tensorflow.keras import models, layers, datasets, utils\n",
    "import matplotlib.pyplot as plt\n",
    "import pandas as pd\n",
    "import qrcode\n",
    "import os\n",
    "import tensorflow as tf"
   ]
  },
  {
   "cell_type": "code",
   "execution_count": null,
   "id": "87f22656-52ce-4d19-8a73-552f57e25fac",
   "metadata": {},
   "outputs": [],
   "source": [
    "# Function to generate QR code\n",
    "def generate_qr_code(url, output_path):\n",
    "    qr = qrcode.QRCode(version=1, error_correction=qrcode.constants.ERROR_CORRECT_L, box_size=10, border=4)\n",
    "    qr.add_data(url)\n",
    "    qr.make(fit=True)\n",
    "    img = qr.make_image(fill_color=\"black\", back_color=\"white\")\n",
    "    img.save(output_path)"
   ]
  },
  {
   "cell_type": "code",
   "execution_count": null,
   "id": "d1e2f5f1-b04e-4ead-aea8-c0fe25790253",
   "metadata": {},
   "outputs": [],
   "source": [
    "# Function to create directories if they don't exist\n",
    "def create_directories(good_dir, bad_dir):\n",
    "    if not os.path.exists(good_dir):\n",
    "        os.makedirs(good_dir)\n",
    "    if not os.path.exists(bad_dir):\n",
    "        os.makedirs(bad_dir)"
   ]
  },
  {
   "cell_type": "code",
   "execution_count": null,
   "id": "d9ce5931-1275-46d0-8c4c-2e05fa65d4d7",
   "metadata": {},
   "outputs": [],
   "source": [
    "# Read CSV file\n",
    "csv_file = './phishing_site_urls.csv' # Change this to your CSV file name\n",
    "df = pd.read_csv(csv_file)\n",
    "\n",
    "# Output directories\n",
    "good_dir = './QR_codes/good_qr_codes'\n",
    "bad_dir = './QR_codes/bad_qr_codes'\n",
    "create_directories(good_dir, bad_dir)\n",
    "\n",
    "qr_code_counter = 0"
   ]
  },
  {
   "cell_type": "code",
   "execution_count": null,
   "id": "d9d05c00-e705-423a-9b38-96c619881dbc",
   "metadata": {},
   "outputs": [],
   "source": [
    "for index, row in df.iterrows():\n",
    "    url = row['URL']\n",
    "    label = row['Label']  # Assuming column name is 'Label'\n",
    "    output_path = os.path.join(good_dir if label == 'good' else bad_dir, f'{index}.png')\n",
    "    generate_qr_code(url, output_path)\n",
    "    qr_code_counter += 1\n",
    "    if qr_code_counter >= 30000:\n",
    "        print(\"Reached the limit of 30000 QR codes. Exiting the loop.\")\n",
    "        break"
   ]
  }
 ],
 "metadata": {
  "kernelspec": {
   "display_name": "Python 3 (ipykernel)",
   "language": "python",
   "name": "python3"
  },
  "language_info": {
   "codemirror_mode": {
    "name": "ipython",
    "version": 3
   },
   "file_extension": ".py",
   "mimetype": "text/x-python",
   "name": "python",
   "nbconvert_exporter": "python",
   "pygments_lexer": "ipython3",
   "version": "3.11.7"
  }
 },
 "nbformat": 4,
 "nbformat_minor": 5
}

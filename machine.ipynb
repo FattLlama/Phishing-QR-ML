{
 "cells": [
  {
   "cell_type": "code",
   "execution_count": 5,
   "metadata": {},
   "outputs": [],
   "source": [
    "\n",
    "import pandas as pd\n",
    "import qrcode\n",
    "import os"
   ]
  },
  {
   "cell_type": "code",
   "execution_count": 2,
   "metadata": {},
   "outputs": [],
   "source": [
    "# Function to generate QR code\n",
    "def generate_qr_code(url, output_path):\n",
    "    qr = qrcode.QRCode(version=1, error_correction=qrcode.constants.ERROR_CORRECT_L, box_size=10, border=4)\n",
    "    qr.add_data(url)\n",
    "    qr.make(fit=True)\n",
    "    img = qr.make_image(fill_color=\"black\", back_color=\"white\")\n",
    "    img.save(output_path)"
   ]
  },
  {
   "cell_type": "code",
   "execution_count": 3,
   "metadata": {},
   "outputs": [],
   "source": [
    "# Function to create directories if they don't exist\n",
    "def create_directories(good_dir, bad_dir):\n",
    "    if not os.path.exists(good_dir):\n",
    "        os.makedirs(good_dir)\n",
    "    if not os.path.exists(bad_dir):\n",
    "        os.makedirs(bad_dir)"
   ]
  },
  {
   "cell_type": "code",
   "execution_count": 13,
   "metadata": {},
   "outputs": [],
   "source": [
    "# Read CSV file\n",
    "csv_file = './URLs/phishing_site_urls.csv' # Change this to your CSV file name\n",
    "df = pd.read_csv(csv_file)\n",
    "# Output directories\n",
    "good_dir = 'good_qr_codes'\n",
    "bad_dir = 'bad_qr_codes'\n",
    "create_directories(good_dir, bad_dir)"
   ]
  },
  {
   "cell_type": "code",
   "execution_count": 14,
   "metadata": {},
   "outputs": [
    {
     "name": "stdout",
     "output_type": "stream",
     "text": [
      "QR codes generated successfully.\n"
     ]
    }
   ],
   "source": [
    "# Generate QR codes\n",
    "for index, row in df.iterrows():\n",
    "    url = row['URL']\n",
    "    label = row['Label'] # Assuming column name is 'Label'\n",
    "    output_path = os.path.join(good_dir if label == 'good' else bad_dir, f'{index}.png')\n",
    "    generate_qr_code(url, output_path)\n",
    "print(\"QR codes generated successfully.\")"
   ]
  }
 ],
 "metadata": {
  "kernelspec": {
   "display_name": "base",
   "language": "python",
   "name": "python3"
  },
  "language_info": {
   "codemirror_mode": {
    "name": "ipython",
    "version": 3
   },
   "file_extension": ".py",
   "mimetype": "text/x-python",
   "name": "python",
   "nbconvert_exporter": "python",
   "pygments_lexer": "ipython3",
   "version": "3.11.7"
  }
 },
 "nbformat": 4,
 "nbformat_minor": 2
}

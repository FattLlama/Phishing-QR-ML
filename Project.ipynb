{
 "cells": [
  {
   "cell_type": "code",
   "execution_count": 2,
   "id": "188e0b28-e199-4efa-9e28-fd693819e62b",
   "metadata": {},
   "outputs": [
    {
     "name": "stdout",
     "output_type": "stream",
     "text": [
      "Collecting qrcodeNote: you may need to restart the kernel to use updated packages.\n",
      "\n",
      "  Downloading qrcode-7.4.2-py3-none-any.whl.metadata (17 kB)\n",
      "Requirement already satisfied: typing-extensions in c:\\users\\curse\\anaconda3\\lib\\site-packages (from qrcode) (4.9.0)\n",
      "Collecting pypng (from qrcode)\n",
      "  Downloading pypng-0.20220715.0-py3-none-any.whl.metadata (13 kB)\n",
      "Requirement already satisfied: colorama in c:\\users\\curse\\anaconda3\\lib\\site-packages (from qrcode) (0.4.6)\n",
      "Downloading qrcode-7.4.2-py3-none-any.whl (46 kB)\n",
      "   ---------------------------------------- 0.0/46.2 kB ? eta -:--:--\n",
      "   ---------------------------------------- 0.0/46.2 kB ? eta -:--:--\n",
      "   -------- ------------------------------- 10.2/46.2 kB ? eta -:--:--\n",
      "   -------- ------------------------------- 10.2/46.2 kB ? eta -:--:--\n",
      "   -------- ------------------------------- 10.2/46.2 kB ? eta -:--:--\n",
      "   -------- ------------------------------- 10.2/46.2 kB ? eta -:--:--\n",
      "   ----------------------------------- ---- 41.0/46.2 kB 178.6 kB/s eta 0:00:01\n",
      "   ----------------------------------- ---- 41.0/46.2 kB 178.6 kB/s eta 0:00:01\n",
      "   ---------------------------------------- 46.2/46.2 kB 128.0 kB/s eta 0:00:00\n",
      "Downloading pypng-0.20220715.0-py3-none-any.whl (58 kB)\n",
      "   ---------------------------------------- 0.0/58.1 kB ? eta -:--:--\n",
      "   ---------------------------------------- 58.1/58.1 kB 1.5 MB/s eta 0:00:00\n",
      "Installing collected packages: pypng, qrcode\n",
      "Successfully installed pypng-0.20220715.0 qrcode-7.4.2\n"
     ]
    }
   ],
   "source": [
    "pip install qrcode"
   ]
  },
  {
   "cell_type": "code",
   "execution_count": 7,
   "id": "f514430d-050f-4fba-9159-d8018196931e",
   "metadata": {},
   "outputs": [],
   "source": [
    "import pandas as pd\n",
    "import qrcode\n",
    "import os\n",
    "import tensorflow as tf\n",
    "from sklearn.model_selection import train_test_split\n",
    "from sklearn.preprocessing import LabelEncoder\n",
    "from tensorflow.keras.preprocessing.text import Tokenizer\n",
    "from tensorflow.keras.preprocessing.sequence import pad_sequences"
   ]
  },
  {
   "cell_type": "code",
   "execution_count": 8,
   "id": "d365e575-48a8-46f1-a60b-e61f80bbbfc7",
   "metadata": {},
   "outputs": [],
   "source": [
    "# Function to generate QR code\n",
    "def generate_qr_code(url, output_path):\n",
    "    qr = qrcode.QRCode(version=1, error_correction=qrcode.constants.ERROR_CORRECT_L, box_size=10, border=4)\n",
    "    qr.add_data(url)\n",
    "    qr.make(fit=True)\n",
    "    img = qr.make_image(fill_color=\"black\", back_color=\"white\")\n",
    "    img.save(output_path)\n",
    "     "
   ]
  },
  {
   "cell_type": "code",
   "execution_count": 3,
   "id": "17a6033d-95ca-41d6-be28-017c03fe395a",
   "metadata": {},
   "outputs": [],
   "source": [
    "# Function to create directories if they don't exist\n",
    "def create_directories(good_dir, bad_dir):\n",
    "    if not os.path.exists(good_dir):\n",
    "        os.makedirs(good_dir)\n",
    "    if not os.path.exists(bad_dir):\n",
    "        os.makedirs(bad_dir)\n",
    "     "
   ]
  },
  {
   "cell_type": "code",
   "execution_count": 9,
   "id": "2357a031-e7a9-4e0c-a971-edf122389351",
   "metadata": {},
   "outputs": [],
   "source": [
    "# Read CSV file\n",
    "csv_file = './phishing_site_urls.csv' # Change this to your CSV file name\n",
    "df = pd.read_csv(csv_file)\n",
    "# Output directories\n",
    "qr_codes_data = []\n",
    "good_dir = './QR_codes/good_qr_codes'\n",
    "bad_dir = './QR_codes/bad_qr_codes'\n",
    "create_directories(good_dir, bad_dir)"
   ]
  },
  {
   "cell_type": "code",
   "execution_count": 14,
   "id": "7d84b122-3358-4c95-a41e-e57d2e4a2395",
   "metadata": {},
   "outputs": [
    {
     "name": "stdout",
     "output_type": "stream",
     "text": [
      "Reached the limit of 30000 QR codes. Exiting the loop.\n"
     ]
    }
   ],
   "source": [
    "qr_code_counter = 0\n",
    "for index, row in df.iterrows():\n",
    "    url = row['URL']\n",
    "    label = row['Label']  # Assuming column name is 'Label'\n",
    "    output_path = os.path.join(good_dir if label == 'good' else bad_dir, f'{index}.png')\n",
    "    generate_qr_code(url, output_path)\n",
    "    qr_codes_data.append((url, label))\n",
    "    qr_code_counter += 1\n",
    "    if qr_code_counter >= 30000:\n",
    "        print(\"Reached the limit of 30000 QR codes. Exiting the loop.\")\n",
    "        break"
   ]
  },
  {
   "cell_type": "code",
   "execution_count": 15,
   "id": "4d1d8e59-014e-4422-844f-9e4759ac31ad",
   "metadata": {},
   "outputs": [],
   "source": [
    "# Splitting data into features and labels\n",
    "urls, labels = zip(*qr_codes_data)"
   ]
  },
  {
   "cell_type": "code",
   "execution_count": 16,
   "id": "d3a299f9-f3a3-4cbe-a793-7fd3c6cb61a6",
   "metadata": {},
   "outputs": [],
   "source": [
    "# Encoding labels\n",
    "label_encoder = LabelEncoder()\n",
    "labels = label_encoder.fit_transform(labels)"
   ]
  },
  {
   "cell_type": "code",
   "execution_count": 17,
   "id": "8e1035cc-1da1-4f52-89b4-e2d2d804d4ce",
   "metadata": {},
   "outputs": [],
   "source": [
    "# Tokenizing URLs\n",
    "tokenizer = Tokenizer()\n",
    "tokenizer.fit_on_texts(urls)\n",
    "sequences = tokenizer.texts_to_sequences(urls)\n",
    "max_sequence_length = max([len(seq) for seq in sequences])\n",
    "padded_sequences = pad_sequences(sequences, maxlen=max_sequence_length, padding='post')"
   ]
  },
  {
   "cell_type": "code",
   "execution_count": 18,
   "id": "ad53f6f2-f838-4086-a015-102df4d96257",
   "metadata": {},
   "outputs": [],
   "source": [
    "X_train, X_test, y_train, y_test = train_test_split(padded_sequences, labels, test_size=0.2, random_state=42)"
   ]
  },
  {
   "cell_type": "code",
   "execution_count": 20,
   "id": "5c42419d-e108-45dc-a033-c6879f397ccb",
   "metadata": {},
   "outputs": [],
   "source": [
    "# Building the neural network\n",
    "model = tf.keras.Sequential([\n",
    "    tf.keras.layers.Embedding(input_dim=len(tokenizer.word_index)+1, output_dim=50),\n",
    "    tf.keras.layers.GlobalAveragePooling1D(),\n",
    "    tf.keras.layers.Dense(64, activation='relu'),\n",
    "    tf.keras.layers.Dense(1, activation='sigmoid')\n",
    "])\n",
    "\n",
    "model.compile(loss='binary_crossentropy', optimizer='adam', metrics=['accuracy'])\n"
   ]
  },
  {
   "cell_type": "code",
   "execution_count": 21,
   "id": "4bbfe544-c2f0-4029-b7b2-ba2851349de6",
   "metadata": {},
   "outputs": [
    {
     "name": "stdout",
     "output_type": "stream",
     "text": [
      "Epoch 1/10\n",
      "\u001b[1m379/379\u001b[0m \u001b[32m━━━━━━━━━━━━━━━━━━━━\u001b[0m\u001b[37m\u001b[0m \u001b[1m17s\u001b[0m 32ms/step - accuracy: 0.9962 - loss: 0.0580 - val_accuracy: 0.9965 - val_loss: 0.0236\n",
      "Epoch 2/10\n",
      "\u001b[1m379/379\u001b[0m \u001b[32m━━━━━━━━━━━━━━━━━━━━\u001b[0m\u001b[37m\u001b[0m \u001b[1m11s\u001b[0m 28ms/step - accuracy: 0.9974 - loss: 0.0177 - val_accuracy: 0.9965 - val_loss: 0.0234\n",
      "Epoch 3/10\n",
      "\u001b[1m379/379\u001b[0m \u001b[32m━━━━━━━━━━━━━━━━━━━━\u001b[0m\u001b[37m\u001b[0m \u001b[1m11s\u001b[0m 28ms/step - accuracy: 0.9972 - loss: 0.0188 - val_accuracy: 0.9965 - val_loss: 0.0233\n",
      "Epoch 4/10\n",
      "\u001b[1m379/379\u001b[0m \u001b[32m━━━━━━━━━━━━━━━━━━━━\u001b[0m\u001b[37m\u001b[0m \u001b[1m10s\u001b[0m 27ms/step - accuracy: 0.9966 - loss: 0.0217 - val_accuracy: 0.9965 - val_loss: 0.0238\n",
      "Epoch 5/10\n",
      "\u001b[1m379/379\u001b[0m \u001b[32m━━━━━━━━━━━━━━━━━━━━\u001b[0m\u001b[37m\u001b[0m \u001b[1m11s\u001b[0m 28ms/step - accuracy: 0.9967 - loss: 0.0212 - val_accuracy: 0.9965 - val_loss: 0.0228\n",
      "Epoch 6/10\n",
      "\u001b[1m379/379\u001b[0m \u001b[32m━━━━━━━━━━━━━━━━━━━━\u001b[0m\u001b[37m\u001b[0m \u001b[1m11s\u001b[0m 28ms/step - accuracy: 0.9974 - loss: 0.0168 - val_accuracy: 0.9965 - val_loss: 0.0221\n",
      "Epoch 7/10\n",
      "\u001b[1m379/379\u001b[0m \u001b[32m━━━━━━━━━━━━━━━━━━━━\u001b[0m\u001b[37m\u001b[0m \u001b[1m11s\u001b[0m 28ms/step - accuracy: 0.9972 - loss: 0.0175 - val_accuracy: 0.9965 - val_loss: 0.0212\n",
      "Epoch 8/10\n",
      "\u001b[1m379/379\u001b[0m \u001b[32m━━━━━━━━━━━━━━━━━━━━\u001b[0m\u001b[37m\u001b[0m \u001b[1m11s\u001b[0m 29ms/step - accuracy: 0.9972 - loss: 0.0165 - val_accuracy: 0.9965 - val_loss: 0.0213\n",
      "Epoch 9/10\n",
      "\u001b[1m379/379\u001b[0m \u001b[32m━━━━━━━━━━━━━━━━━━━━\u001b[0m\u001b[37m\u001b[0m \u001b[1m10s\u001b[0m 27ms/step - accuracy: 0.9964 - loss: 0.0206 - val_accuracy: 0.9965 - val_loss: 0.0188\n",
      "Epoch 10/10\n",
      "\u001b[1m379/379\u001b[0m \u001b[32m━━━━━━━━━━━━━━━━━━━━\u001b[0m\u001b[37m\u001b[0m \u001b[1m11s\u001b[0m 28ms/step - accuracy: 0.9976 - loss: 0.0126 - val_accuracy: 0.9965 - val_loss: 0.0176\n"
     ]
    },
    {
     "data": {
      "text/plain": [
       "<keras.src.callbacks.history.History at 0x226c9c3b990>"
      ]
     },
     "execution_count": 21,
     "metadata": {},
     "output_type": "execute_result"
    }
   ],
   "source": [
    "# Training the model\n",
    "model.fit(X_train, y_train, epochs=10, batch_size=64, validation_data=(X_test, y_test))"
   ]
  },
  {
   "cell_type": "code",
   "execution_count": 22,
   "id": "d191b2f5-6a49-4d62-9a57-84cbce43b94e",
   "metadata": {},
   "outputs": [
    {
     "name": "stdout",
     "output_type": "stream",
     "text": [
      "\u001b[1m190/190\u001b[0m \u001b[32m━━━━━━━━━━━━━━━━━━━━\u001b[0m\u001b[37m\u001b[0m \u001b[1m1s\u001b[0m 3ms/step - accuracy: 0.9961 - loss: 0.0194\n",
      "Loss: 0.01757930964231491, Accuracy: 0.9965289235115051\n"
     ]
    }
   ],
   "source": [
    "# Evaluate the model\n",
    "loss, accuracy = model.evaluate(X_test, y_test)\n",
    "print(f'Loss: {loss}, Accuracy: {accuracy}')"
   ]
  },
  {
   "cell_type": "code",
   "execution_count": 23,
   "id": "f7c794a5-d9cc-4b03-83e3-2507a21b6e09",
   "metadata": {},
   "outputs": [
    {
     "name": "stdout",
     "output_type": "stream",
     "text": [
      "Collecting pytesseract\n",
      "  Downloading pytesseract-0.3.10-py3-none-any.whl.metadata (11 kB)\n",
      "Requirement already satisfied: packaging>=21.3 in c:\\users\\curse\\anaconda3\\lib\\site-packages (from pytesseract) (23.1)\n",
      "Requirement already satisfied: Pillow>=8.0.0 in c:\\users\\curse\\anaconda3\\lib\\site-packages (from pytesseract) (10.2.0)\n",
      "Downloading pytesseract-0.3.10-py3-none-any.whl (14 kB)\n",
      "Installing collected packages: pytesseract\n",
      "Successfully installed pytesseract-0.3.10\n",
      "Note: you may need to restart the kernel to use updated packages.\n"
     ]
    }
   ],
   "source": [
    "pip install pytesseract"
   ]
  },
  {
   "cell_type": "code",
   "execution_count": 24,
   "id": "c6e94f6d-01fe-4e2e-8049-84780afefa60",
   "metadata": {},
   "outputs": [],
   "source": [
    "import cv2\n",
    "import numpy as np\n",
    "import pytesseract"
   ]
  },
  {
   "cell_type": "code",
   "execution_count": 25,
   "id": "9433699d-666a-4637-8f90-60aebe97e595",
   "metadata": {},
   "outputs": [],
   "source": [
    "# Function to preprocess QR code image and predict label\n",
    "def predict_qr_code(image_path, tokenizer, model):\n",
    "    # Read QR code image\n",
    "    qr_image = cv2.imread(image_path)\n",
    "\n",
    "    # Perform OCR to extract text from the QR code image\n",
    "    text = pytesseract.image_to_string(qr_image)\n",
    "\n",
    "    # Tokenize and pad the URL sequence\n",
    "    sequence = tokenizer.texts_to_sequences([text])\n",
    "    padded_sequence = pad_sequences(sequence, maxlen=max_sequence_length, padding='post')\n",
    "\n",
    "    # Predict the label (0: bad, 1: good)\n",
    "    prediction = model.predict(padded_sequence)\n",
    "    predicted_label = \"good\" if prediction[0] > 0.5 else \"bad\"\n",
    "\n",
    "    return predicted_label"
   ]
  },
  {
   "cell_type": "code",
   "execution_count": 30,
   "id": "52cd78ad-4f36-407e-ace1-3eab7e7d8b12",
   "metadata": {},
   "outputs": [
    {
     "name": "stdout",
     "output_type": "stream",
     "text": [
      "\u001b[1m1/1\u001b[0m \u001b[32m━━━━━━━━━━━━━━━━━━━━\u001b[0m\u001b[37m\u001b[0m \u001b[1m0s\u001b[0m 28ms/step\n",
      "Predicted label: bad\n"
     ]
    }
   ],
   "source": [
    "# Specify the path to the Tesseract executable\n",
    "pytesseract.pytesseract.tesseract_cmd = r'.\\Tesseract-OCR\\tesseract.exe'  # Example path, adjust it based on your installation\n",
    "\n",
    "# Now you can use the predict_qr_code function\n",
    "image_path = \"./download1.png\"  # Replace this with the path to your QR code image\n",
    "predicted_label = predict_qr_code(image_path, tokenizer, model)\n",
    "print(\"Predicted label:\", predicted_label)"
   ]
  }
 ],
 "metadata": {
  "kernelspec": {
   "display_name": "Python 3 (ipykernel)",
   "language": "python",
   "name": "python3"
  },
  "language_info": {
   "codemirror_mode": {
    "name": "ipython",
    "version": 3
   },
   "file_extension": ".py",
   "mimetype": "text/x-python",
   "name": "python",
   "nbconvert_exporter": "python",
   "pygments_lexer": "ipython3",
   "version": "3.11.7"
  }
 },
 "nbformat": 4,
 "nbformat_minor": 5
}
